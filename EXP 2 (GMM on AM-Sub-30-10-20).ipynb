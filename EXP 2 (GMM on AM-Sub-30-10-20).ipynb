{
 "cells": [
  {
   "cell_type": "markdown",
   "metadata": {},
   "source": [
    "# SPEAKER IDENTIFICATION\n",
    "GMM on Librispeech SUBset"
   ]
  },
  {
   "cell_type": "code",
   "execution_count": 1,
   "metadata": {},
   "outputs": [],
   "source": [
    "import numpy as np\n",
    "from sklearn import preprocessing\n",
    "from sklearn.metrics import confusion_matrix\n",
    "import python_speech_features as mfcc\n",
    "\n",
    "import _pickle as cPickle\n",
    "\n",
    "from scipy.io.wavfile import read\n",
    "from sklearn import mixture\n",
    "import soundfile\n",
    "import time\n",
    "\n",
    "import warnings\n",
    "\n",
    "import os\n",
    "import pandas as pd\n",
    "\n",
    "import matplotlib\n",
    "import matplotlib.pyplot as plt\n",
    "\n",
    "import pickle"
   ]
  },
  {
   "cell_type": "code",
   "execution_count": 2,
   "metadata": {},
   "outputs": [],
   "source": [
    "def calculate_delta(array):\n",
    "    \"\"\"Calculate and returns the delta of given feature vector matrix\"\"\"\n",
    " \n",
    "    # determines the number of rows and columns in the input array\n",
    "    rows,cols = array.shape\n",
    "    # create an array of zeros with the same number of rows as the input array and 20 columns\n",
    "    deltas = np.zeros((rows,20))\n",
    "    \n",
    "    #Define window size\n",
    "    N = 2\n",
    "    \n",
    "    for i in range(rows):\n",
    "        index = []\n",
    "        j = 1\n",
    "        while j <= N:\n",
    "            if i-j < 0:\n",
    "                first =0\n",
    "            else:    \n",
    "                first = i-j\n",
    "            if i+j > rows-1:\n",
    "                second = rows-1\n",
    "            else:\n",
    "                second = i+j\n",
    "            index.append((second,first))\n",
    "            j+=1\n",
    "        deltas[i] = ( array[index[0][0]]-array[index[0][1]] + (2 * (array[index[1][0]]-array[index[1][1]])) ) / 10\n",
    "    return deltas\n",
    " \n",
    "def extract_features(audio,rate):\n",
    "    \"\"\"extract 20 dim mfcc features from an audio, performs CMS and combines\n",
    "    delta to make it 40 dim feature vector\"\"\"   \n",
    "    \n",
    "    #use the \"mfcc\" function of the \"python_speech_features\" module to extract 20-dimensional MFCC features from the audio file.\n",
    "    mfcc_feat = mfcc.mfcc(audio,rate, 0.01, 0.01,20,appendEnergy = True, nfft=1024)\n",
    "    \n",
    "    #apply standard scaling to the MFCC features\n",
    "    mfcc_feat = preprocessing.scale(mfcc_feat)\n",
    "    \n",
    "    #calculate the delta values for the MFCC features \n",
    "    delta = calculate_delta(mfcc_feat)    #The delta values represent the rate of change of the MFCC features over time and can be used to capture the dynamic aspects of the audio signal.\n",
    "    \n",
    "    #combines the MFCC and delta features by horizontally stacking them\n",
    "    combined = np.hstack((mfcc_feat,delta))\n",
    "    \n",
    "    #return a feature vector with 40 dimensions\n",
    "    return combined  "
   ]
  },
  {
   "cell_type": "markdown",
   "metadata": {},
   "source": [
    "# Training Speaker Models"
   ]
  },
  {
   "cell_type": "code",
   "execution_count": 3,
   "metadata": {
    "scrolled": true
   },
   "outputs": [
    {
     "name": "stdout",
     "output_type": "stream",
     "text": [
      "+ modeling completed for speaker: 19.gmm  with data point =  (39862, 40)\n",
      "+ modeling completed for speaker: 26.gmm  with data point =  (38224, 40)\n",
      "+ modeling completed for speaker: 27.gmm  with data point =  (26628, 40)\n",
      "+ modeling completed for speaker: 32.gmm  with data point =  (41813, 40)\n",
      "+ modeling completed for speaker: 40.gmm  with data point =  (38035, 40)\n",
      "+ modeling completed for speaker: 78.gmm  with data point =  (39237, 40)\n",
      "+ modeling completed for speaker: 83.gmm  with data point =  (37778, 40)\n",
      "+ modeling completed for speaker: 87.gmm  with data point =  (40349, 40)\n",
      "+ modeling completed for speaker: 89.gmm  with data point =  (35984, 40)\n",
      "+ modeling completed for speaker: 103.gmm  with data point =  (43485, 40)\n",
      "+ modeling completed for speaker: 118.gmm  with data point =  (36524, 40)\n",
      "+ modeling completed for speaker: 125.gmm  with data point =  (36232, 40)\n",
      "+ modeling completed for speaker: 150.gmm  with data point =  (38289, 40)\n",
      "+ modeling completed for speaker: 163.gmm  with data point =  (38041, 40)\n",
      "+ modeling completed for speaker: 196.gmm  with data point =  (42405, 40)\n",
      "+ modeling completed for speaker: 198.gmm  with data point =  (36444, 40)\n",
      "+ modeling completed for speaker: 200.gmm  with data point =  (42498, 40)\n",
      "+ modeling completed for speaker: 201.gmm  with data point =  (38694, 40)\n",
      "+ modeling completed for speaker: 211.gmm  with data point =  (28186, 40)\n",
      "+ modeling completed for speaker: 226.gmm  with data point =  (43888, 40)\n",
      "+ modeling completed for speaker: 233.gmm  with data point =  (40628, 40)\n",
      "+ modeling completed for speaker: 248.gmm  with data point =  (41278, 40)\n",
      "+ modeling completed for speaker: 250.gmm  with data point =  (40784, 40)\n",
      "+ modeling completed for speaker: 254.gmm  with data point =  (31013, 40)\n",
      "+ modeling completed for speaker: 298.gmm  with data point =  (39129, 40)\n",
      "+ modeling completed for speaker: 302.gmm  with data point =  (40892, 40)\n",
      "+ modeling completed for speaker: 307.gmm  with data point =  (38218, 40)\n",
      "+ modeling completed for speaker: 311.gmm  with data point =  (38614, 40)\n",
      "+ modeling completed for speaker: 322.gmm  with data point =  (38226, 40)\n",
      "+ modeling completed for speaker: 374.gmm  with data point =  (39060, 40)\n",
      "+ modeling completed for speaker: 403.gmm  with data point =  (40384, 40)\n",
      "+ modeling completed for speaker: 405.gmm  with data point =  (41345, 40)\n",
      "+ modeling completed for speaker: 426.gmm  with data point =  (40036, 40)\n",
      "+ modeling completed for speaker: 441.gmm  with data point =  (40608, 40)\n",
      "+ modeling completed for speaker: 446.gmm  with data point =  (40494, 40)\n",
      "+ modeling completed for speaker: 460.gmm  with data point =  (40302, 40)\n",
      "+ modeling completed for speaker: 481.gmm  with data point =  (36322, 40)\n",
      "+ modeling completed for speaker: 587.gmm  with data point =  (41957, 40)\n",
      "+ modeling completed for speaker: 625.gmm  with data point =  (40182, 40)\n",
      "+ modeling completed for speaker: 669.gmm  with data point =  (35046, 40)\n",
      "+ modeling completed for speaker: 696.gmm  with data point =  (42083, 40)\n",
      "+ modeling completed for speaker: 730.gmm  with data point =  (29887, 40)\n",
      "+ modeling completed for speaker: 831.gmm  with data point =  (37165, 40)\n",
      "+ modeling completed for speaker: 839.gmm  with data point =  (31530, 40)\n",
      "+ modeling completed for speaker: 887.gmm  with data point =  (41736, 40)\n",
      "+ modeling completed for speaker: 909.gmm  with data point =  (38622, 40)\n",
      "+ modeling completed for speaker: 911.gmm  with data point =  (39681, 40)\n",
      "+ modeling completed for speaker: 1069.gmm  with data point =  (39750, 40)\n",
      "+ modeling completed for speaker: 1081.gmm  with data point =  (33244, 40)\n",
      "+ modeling completed for speaker: 1088.gmm  with data point =  (40227, 40)\n",
      "+ modeling completed for speaker: 1116.gmm  with data point =  (40141, 40)\n",
      "+ modeling completed for speaker: 1235.gmm  with data point =  (35199, 40)\n",
      "+ modeling completed for speaker: 1246.gmm  with data point =  (41248, 40)\n",
      "+ modeling completed for speaker: 1263.gmm  with data point =  (40730, 40)\n",
      "+ modeling completed for speaker: 1334.gmm  with data point =  (41239, 40)\n",
      "+ modeling completed for speaker: 1447.gmm  with data point =  (32575, 40)\n",
      "+ modeling completed for speaker: 1455.gmm  with data point =  (29284, 40)\n",
      "+ modeling completed for speaker: 1553.gmm  with data point =  (41892, 40)\n",
      "+ modeling completed for speaker: 1594.gmm  with data point =  (38850, 40)\n",
      "+ modeling completed for speaker: 1723.gmm  with data point =  (42467, 40)\n",
      "+ modeling completed for speaker: 2002.gmm  with data point =  (40710, 40)\n",
      "+ modeling completed for speaker: 2092.gmm  with data point =  (43960, 40)\n",
      "+ modeling completed for speaker: 6181.gmm  with data point =  (38017, 40)\n",
      "+ modeling completed for speaker: 6454.gmm  with data point =  (42741, 40)\n",
      "+ modeling completed for speaker: 6818.gmm  with data point =  (42134, 40)\n",
      "+ modeling completed for speaker: 7113.gmm  with data point =  (40976, 40)\n",
      "+ modeling completed for speaker: 7178.gmm  with data point =  (39975, 40)\n",
      "+ modeling completed for speaker: 7302.gmm  with data point =  (37002, 40)\n",
      "+ modeling completed for speaker: 7367.gmm  with data point =  (36915, 40)\n",
      "+ modeling completed for speaker: 7402.gmm  with data point =  (41388, 40)\n",
      "+ modeling completed for speaker: 7511.gmm  with data point =  (40116, 40)\n",
      "+ modeling completed for speaker: 7780.gmm  with data point =  (41701, 40)\n",
      "+ modeling completed for speaker: 7794.gmm  with data point =  (41942, 40)\n",
      "+ modeling completed for speaker: 8088.gmm  with data point =  (37822, 40)\n",
      "+ modeling completed for speaker: 8312.gmm  with data point =  (44167, 40)\n",
      "+ modeling completed for speaker: 8630.gmm  with data point =  (42183, 40)\n",
      "+ modeling completed for speaker: 8747.gmm  with data point =  (39597, 40)\n",
      "+ modeling completed for speaker: 8770.gmm  with data point =  (41561, 40)\n",
      "+ modeling completed for speaker: 8797.gmm  with data point =  (40182, 40)\n",
      "+ modeling completed for speaker: 8838.gmm  with data point =  (41812, 40)\n",
      "+ modeling completed for speaker: 8975.gmm  with data point =  (37042, 40)\n",
      "The training took 1814.44 seconds to run.\n"
     ]
    }
   ],
   "source": [
    "start_time = time.time()\n",
    "\n",
    "warnings.filterwarnings(\"ignore\")\n",
    "\n",
    "#path to training data\n",
    "source   = \"NEW_Librispeech_SUBSET/\"  #main folder dataset\n",
    " \n",
    "#path where training speakers will be saved\n",
    "dest = \"speaker_models_dataset2_30\\\\\"\n",
    "\n",
    "#File with the name of files to be used for trainning\n",
    "train_file = \"Librispeech_train30.csv\"\n",
    "file_paths = open(train_file,'r') # reading audio files\n",
    " \n",
    "count = 1\n",
    "\n",
    "# Extracting features for each speaker\n",
    "features = np.asarray(())\n",
    "for path in file_paths:\n",
    "    path = path.strip()\n",
    "    #print(path)\n",
    " \n",
    "    # read the audio\n",
    "    audio, sr = soundfile.read(source + path)\n",
    " \n",
    "    # extract 40 dimensional MFCC & delta MFCC features\n",
    "    vector = extract_features(audio,sr)\n",
    " \n",
    "    if features.size == 0:\n",
    "        features = vector\n",
    "    else:\n",
    "        features = np.vstack((features, vector))\n",
    "    # when features of 30 files of speaker are concatenated, then do model training\n",
    "    if count == 30:\n",
    "        \n",
    "        gmm = mixture.GaussianMixture(n_components = 16, max_iter = 200, covariance_type='diag',n_init = 3)\n",
    "        gmm.fit(features)\n",
    " \n",
    "        # dumping the trained gaussian model\n",
    "        picklefile = path.split(\"-\")[0]+\".gmm\"\n",
    "        #print(gmm)\n",
    "        cPickle.dump(gmm,open(dest + picklefile,'wb'))\n",
    "        print ('+ modeling completed for speaker:',picklefile,\" with data point = \",features.shape)\n",
    "        features = np.asarray(())\n",
    "        count = 0\n",
    "    count = count + 1\n",
    "    \n",
    "end_time = time.time()\n",
    "elapsed_time = end_time - start_time\n",
    "\n",
    "print(f\"The training took {elapsed_time:.2f} seconds to run.\")"
   ]
  },
  {
   "cell_type": "markdown",
   "metadata": {},
   "source": [
    "# Evaluating Performance on test set"
   ]
  },
  {
   "cell_type": "code",
   "execution_count": 4,
   "metadata": {},
   "outputs": [
    {
     "name": "stdout",
     "output_type": "stream",
     "text": [
      "The testing took 2468.40 seconds to run.\n"
     ]
    }
   ],
   "source": [
    "# Path to the directory containing the test audio files\n",
    "test_dir = \"NEW_Librispeech_SUBSET/\"\n",
    "\n",
    "# Path to the directory containing the trained GMM models\n",
    "model_dir = \"speaker_models_dataset2_30/\"\n",
    "\n",
    "# File containing the list of test audio files\n",
    "test_file = \"Librispeech_train30.csv\"\n",
    "\n",
    "# Load the trained GMM models and their corresponding speaker IDs\n",
    "gmm_models = []\n",
    "speaker_ids = []\n",
    "for fname in os.listdir(model_dir):\n",
    "    if fname.endswith('.gmm'):\n",
    "        with open(os.path.join(model_dir, fname), 'rb') as f:\n",
    "            gmm_models.append(pickle.load(f))\n",
    "            speaker_ids.append(fname.split(\".gmm\")[0])\n",
    "\n",
    "# Initialize lists to store the predicted speaker IDs, the second predicted speaker IDs, \n",
    "# the correct speaker IDs, and the log-likelihood scores\n",
    "predicted_speakers = []\n",
    "second_predicted_speakers = []\n",
    "correct_speakers = []\n",
    "winner_scores = []\n",
    "second_scores = []\n",
    "\n",
    "# Read the list of test audio files from the CSV file\n",
    "with open(test_file, 'r') as f:\n",
    "    test_files = f.readlines()\n",
    "\n",
    "# Loop through each test audio file\n",
    "for path in test_files:\n",
    "    path = path.strip()\n",
    "    speaker_id = path.partition(\"-\")[0]\n",
    "    #correct_speaker_idx = speaker_ids.index(speaker_id)\n",
    "\n",
    "    # Read the audio file and extract its features\n",
    "    audio, sr = soundfile.read(os.path.join(test_dir, path))\n",
    "    features = extract_features(audio, sr)\n",
    "\n",
    "    # Calculate the log-likelihood of the audio file given each GMM model\n",
    "    log_likelihoods = np.zeros(len(gmm_models))\n",
    "    for i, gmm_model in enumerate(gmm_models):\n",
    "        log_likelihoods[i] = np.sum(gmm_model.score(features))\n",
    "\n",
    "    # Predict the speaker ID with the highest log-likelihood score\n",
    "    predicted_speaker_idx = np.argmax(log_likelihoods)\n",
    "    predicted_speaker = speaker_ids[predicted_speaker_idx]\n",
    "    predicted_speakers.append(predicted_speaker)\n",
    "\n",
    "    # Predict the second highest speaker ID and store its log-likelihood score\n",
    "    second_predicted_speaker_idx = np.argsort(log_likelihoods)[-2]\n",
    "    second_predicted_speaker = speaker_ids[second_predicted_speaker_idx]\n",
    "    second_predicted_speakers.append(second_predicted_speaker)\n",
    "\n",
    "    # Store the correct speaker ID and the log-likelihood score for the predicted speaker\n",
    "    correct_speakers.append(speaker_id)\n",
    "    winner_scores.append(log_likelihoods[predicted_speaker_idx])\n",
    "    second_scores.append(log_likelihoods[second_predicted_speaker_idx])\n",
    "    \n",
    "    #print(f\"correct :{speaker_id}, winner: { predicted_speaker}, second: {second_predicted_speaker}\")\n",
    "\n",
    "# Calculate the elapsed time and print it\n",
    "elapsed_time = time.time() - start_time\n",
    "print(f\"The testing took {elapsed_time:.2f} seconds to run.\")\n",
    "\n"
   ]
  },
  {
   "cell_type": "code",
   "execution_count": 5,
   "metadata": {},
   "outputs": [],
   "source": [
    "# Create a DataFrame to hold the results\n",
    "df = pd.DataFrame({'Speaker Real': correct_speakers,\n",
    "                   'Speaker Predicted': predicted_speakers,\n",
    "                   'Winner Score': winner_scores,\n",
    "                   'Second Place': second_predicted_speakers,\n",
    "                   'Second Place Score': second_scores})\n",
    "\n",
    "# Save the DataFrame to an Excel file\n",
    "df.to_excel('results_GMM_2.xlsx', index=False)"
   ]
  },
  {
   "cell_type": "code",
   "execution_count": 6,
   "metadata": {},
   "outputs": [
    {
     "data": {
      "image/png": "[encoded data removed]",
      "text/plain": [
       "<Figure size 1080x1080 with 2 Axes>"
      ]
     },
     "metadata": {},
     "output_type": "display_data"
    }
   ],
   "source": [
    "# Load the results DataFrame as df\n",
    "results = df\n",
    "\n",
    "plt.rcParams['font.size'] = 20\n",
    "\n",
    "# Calculate accuracy for matching Test_y and Top_2_1\n",
    "df[\"acc_1\"] = (df['Speaker Real'] == df['Speaker Predicted'])\n",
    "\n",
    "# Calculate accuracy for matching Test_y and (Top_2_1 & Top_2_2)\n",
    "results[\"acc_2\"]  = ((df['Speaker Real'] == df['Speaker Predicted']) | (df['Speaker Real'] == df['Second Place']))\n",
    "\n",
    "# Get unique values of Test_y\n",
    "unique_values = df['Speaker Real'].unique()\n",
    "\n",
    "mean_accuracy = results.groupby(df['Speaker Real'])[['acc_1', 'acc_2']].mean().reset_index()\n",
    "mean_accuracy.set_index(mean_accuracy.columns[0], inplace=True)\n",
    "\n",
    "# Get the speaker names\n",
    "speakers = mean_accuracy.index\n",
    "\n",
    "# Create bar plots\n",
    "fig, axs = plt.subplots(2, 1, figsize=(15, 15), facecolor='white')\n",
    "plt.suptitle(f\"Librispeech GMM-30-10-20\")\n",
    "\n",
    "axs[0].bar(range(len(speakers)), mean_accuracy['acc_1'])\n",
    "axs[0].axhline(mean_accuracy['acc_1'].mean(), color='r', linestyle='--')\n",
    "axs[0].set_xlabel('Speaker')\n",
    "axs[0].set_ylabel('Accuracy')\n",
    "axs[0].set_title('Accuracy')\n",
    "axs[0].set_xticks(range(len(speakers)))\n",
    "axs[0].set_ylim([0,1.1])\n",
    "#axs[0].set_xticklabels(speakers, rotation=90, fontsize=12)\n",
    "axs[0].set_xticklabels(range(1, len(speakers) + 1), rotation=90, fontsize=12)\n",
    "\n",
    "axs[1].bar(range(len(speakers)), mean_accuracy['acc_2'])\n",
    "axs[1].axhline(mean_accuracy['acc_2'].mean(), color='r', linestyle='--')\n",
    "axs[1].set_xlabel('Speaker')\n",
    "axs[1].set_ylabel('Top-2 Accuracy')\n",
    "axs[1].set_title('TOP-2 Accuracy')\n",
    "axs[1].set_xticks(range(len(speakers)))\n",
    "axs[1].set_ylim([0,1.1])\n",
    "#axs[1].set_xticklabels(speakers, rotation=90, fontsize=12)\n",
    "axs[1].set_xticklabels(range(1, len(speakers) + 1), rotation=90, fontsize=12)\n",
    "\n",
    "#fig.suptitle(f\"AudioMNIST_(TRAIN {100*train_size/data_size}%)\", fontsize=26)\n",
    "plt.tight_layout()\n",
    "\n",
    "\n",
    "# Display the plot\n",
    "\n",
    "plt.savefig(\"Librispeech_GMM-30-10-20.png\")"
   ]
  },
  {
   "cell_type": "code",
   "execution_count": 7,
   "metadata": {},
   "outputs": [
    {
     "data": {
      "text/plain": [
       "0.9995884773662551"
      ]
     },
     "execution_count": 7,
     "metadata": {},
     "output_type": "execute_result"
    }
   ],
   "source": [
    "mean_accuracy['acc_1'].mean()"
   ]
  },
  {
   "cell_type": "code",
   "execution_count": 8,
   "metadata": {},
   "outputs": [
    {
     "data": {
      "text/plain": [
       "1.0"
      ]
     },
     "execution_count": 8,
     "metadata": {},
     "output_type": "execute_result"
    }
   ],
   "source": [
    "mean_accuracy['acc_2'].mean()"
   ]
  },
  {
   "cell_type": "code",
   "execution_count": 9,
   "metadata": {},
   "outputs": [
    {
     "data": {
      "image/png": "[encoded data removed]",
      "text/plain": [
       "<Figure size 432x288 with 1 Axes>"
      ]
     },
     "metadata": {},
     "output_type": "display_data"
    }
   ],
   "source": [
    "plt.rcParams['font.size'] = 12\n",
    "# Create a figure and axis\n",
    "fig, ax = plt.subplots(facecolor='white')\n",
    "\n",
    "# Create a list of the two data series for box plots\n",
    "data = [mean_accuracy['acc_1'], mean_accuracy['acc_2']]\n",
    "\n",
    "# Create the box plots\n",
    "box_plot = ax.boxplot(data, labels=['Accuracy', 'Top-2 Accuracy'])\n",
    "\n",
    "# Add labels to the box plots\n",
    "ax.set_ylabel('Accuracy')\n",
    "ax.set_title(\"Librispeech_(GMM-30-10-20)\")\n",
    "ax.set_ylim([0.8, 1.1])\n",
    "\n",
    "# Calculate the mean values\n",
    "mean_values = [np.mean(series) for series in data]\n",
    "\n",
    "# Add mean labels\n",
    "for i, mean in enumerate(mean_values):\n",
    "    ax.text(i + 1, mean, f\"Mean: {mean:.4f}\", fontsize=12, va='bottom')\n",
    "\n",
    "# Display the plot\n",
    "\n",
    "plt.savefig(\"Librispeech_(GMM-30-10-20)_BP.png\")"
   ]
  },
  {
   "cell_type": "code",
   "execution_count": 10,
   "metadata": {
    "scrolled": true
   },
   "outputs": [
    {
     "name": "stdout",
     "output_type": "stream",
     "text": [
      "\tAccuracy - 100.0%\n"
     ]
    }
   ],
   "source": [
    "#Sumit // Accuracy =  total of true speakers / all speakers * 100\n",
    "\n",
    "accuracy = len(set(correct_speakers).intersection(predicted_speakers)) / max(len(set(correct_speakers)),len(set(predicted_speakers))) * 100\n",
    "print(f\"\\tAccuracy - {round(accuracy,2)}%\")"
   ]
  },
  {
   "cell_type": "code",
   "execution_count": 11,
   "metadata": {
    "scrolled": true
   },
   "outputs": [
    {
     "ename": "NameError",
     "evalue": "name 'speakers_real' is not defined",
     "output_type": "error",
     "traceback": [
      "\u001b[1;31m---------------------------------------------------------------------------\u001b[0m",
      "\u001b[1;31mNameError\u001b[0m                                 Traceback (most recent call last)",
      "\u001b[1;32m<ipython-input-11-930c45b94e49>\u001b[0m in \u001b[0;36m<module>\u001b[1;34m\u001b[0m\n\u001b[1;32m----> 1\u001b[1;33m \u001b[0mlen\u001b[0m\u001b[1;33m(\u001b[0m\u001b[0mset\u001b[0m\u001b[1;33m(\u001b[0m\u001b[0mspeakers_real\u001b[0m\u001b[1;33m)\u001b[0m\u001b[1;33m.\u001b[0m\u001b[0mintersection\u001b[0m\u001b[1;33m(\u001b[0m\u001b[0mspeakers_pred\u001b[0m\u001b[1;33m)\u001b[0m\u001b[1;33m)\u001b[0m\u001b[1;33m\u001b[0m\u001b[1;33m\u001b[0m\u001b[0m\n\u001b[0m",
      "\u001b[1;31mNameError\u001b[0m: name 'speakers_real' is not defined"
     ]
    }
   ],
   "source": [
    "len(set(speakers_real).intersection(speakers_pred))"
   ]
  },
  {
   "cell_type": "code",
   "execution_count": null,
   "metadata": {},
   "outputs": [],
   "source": [
    "max(len(set(speakers_real)),len(set(speakers_pred)))"
   ]
  },
  {
   "cell_type": "code",
   "execution_count": null,
   "metadata": {},
   "outputs": [],
   "source": []
  },
  {
   "cell_type": "code",
   "execution_count": null,
   "metadata": {},
   "outputs": [],
   "source": [
    "import sklearn as sk\n",
    "accuracy = sk.metrics.accuracy_score(correct_speakers, predicted_speakers)\n",
    "print(f\"\\tAccuracy - {round(accuracy,4)*100}%\")\n",
    "\n",
    "#This is the top 1 accuraycy"
   ]
  },
  {
   "cell_type": "code",
   "execution_count": null,
   "metadata": {
    "scrolled": true
   },
   "outputs": [],
   "source": [
    "accuracy_Top2 = sk.metrics.accuracy_score(correct_speakers, speaker_2pred)\n",
    "print(f\"\\tAccuracy - {round(accuracy,2)}%\")"
   ]
  },
  {
   "cell_type": "code",
   "execution_count": null,
   "metadata": {},
   "outputs": [],
   "source": []
  }
 ],
 "metadata": {
  "kernelspec": {
   "display_name": "Python 3",
   "language": "python",
   "name": "python3"
  },
  "language_info": {
   "codemirror_mode": {
    "name": "ipython",
    "version": 3
   },
   "file_extension": ".py",
   "mimetype": "text/x-python",
   "name": "python",
   "nbconvert_exporter": "python",
   "pygments_lexer": "ipython3",
   "version": "3.8.8"
  },
  "toc": {
   "base_numbering": 1,
   "nav_menu": {},
   "number_sections": true,
   "sideBar": true,
   "skip_h1_title": false,
   "title_cell": "Table of Contents",
   "title_sidebar": "Contents",
   "toc_cell": false,
   "toc_position": {},
   "toc_section_display": true,
   "toc_window_display": false
  }
 },
 "nbformat": 4,
 "nbformat_minor": 4
}
