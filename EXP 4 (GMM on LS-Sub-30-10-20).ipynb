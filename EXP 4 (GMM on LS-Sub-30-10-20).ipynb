{
 "cells": [
  {
   "cell_type": "markdown",
   "metadata": {},
   "source": [
    "# SPEAKER IDENTIFICATION\n",
    "GMM on AudioMnist - SUBset"
   ]
  },
  {
   "cell_type": "code",
   "execution_count": 1,
   "metadata": {},
   "outputs": [],
   "source": [
    "import numpy as np\n",
    "from sklearn import preprocessing\n",
    "from sklearn.metrics import confusion_matrix\n",
    "import python_speech_features as mfcc\n",
    "\n",
    "import _pickle as cPickle\n",
    "\n",
    "from scipy.io.wavfile import read\n",
    "from sklearn import mixture\n",
    "import soundfile\n",
    "import time\n",
    "\n",
    "import warnings\n",
    "\n",
    "import os\n",
    "import pandas as pd\n",
    "\n",
    "import matplotlib\n",
    "import matplotlib.pyplot as plt\n",
    "\n",
    "import pickle"
   ]
  },
  {
   "cell_type": "code",
   "execution_count": 2,
   "metadata": {},
   "outputs": [],
   "source": [
    "def calculate_delta(array):\n",
    "    \"\"\"Calculate and returns the delta of given feature vector matrix\"\"\"\n",
    " \n",
    "    # determines the number of rows and columns in the input array\n",
    "    rows,cols = array.shape\n",
    "    # create an array of zeros with the same number of rows as the input array and 20 columns\n",
    "    deltas = np.zeros((rows,20))\n",
    "    \n",
    "    #Define window size\n",
    "    N = 2\n",
    "    \n",
    "    for i in range(rows):\n",
    "        index = []\n",
    "        j = 1\n",
    "        while j <= N:\n",
    "            if i-j < 0:\n",
    "                first =0\n",
    "            else:    \n",
    "                first = i-j\n",
    "            if i+j > rows-1:\n",
    "                second = rows-1\n",
    "            else:\n",
    "                second = i+j\n",
    "            index.append((second,first))\n",
    "            j+=1\n",
    "        deltas[i] = ( array[index[0][0]]-array[index[0][1]] + (2 * (array[index[1][0]]-array[index[1][1]])) ) / 10\n",
    "    return deltas\n",
    " \n",
    "def extract_features(audio,rate):\n",
    "    \"\"\"extract 20 dim mfcc features from an audio, performs CMS and combines\n",
    "    delta to make it 40 dim feature vector\"\"\"   \n",
    "    \n",
    "    #use the \"mfcc\" function of the \"python_speech_features\" module to extract 20-dimensional MFCC features from the audio file.\n",
    "    mfcc_feat = mfcc.mfcc(audio,rate, 0.01, 0.01,20,appendEnergy = True, nfft=1024)\n",
    "    \n",
    "    #apply standard scaling to the MFCC features\n",
    "    mfcc_feat = preprocessing.scale(mfcc_feat)\n",
    "    \n",
    "    #calculate the delta values for the MFCC features \n",
    "    delta = calculate_delta(mfcc_feat)    #The delta values represent the rate of change of the MFCC features over time and can be used to capture the dynamic aspects of the audio signal.\n",
    "    \n",
    "    #combines the MFCC and delta features by horizontally stacking them\n",
    "    combined = np.hstack((mfcc_feat,delta))\n",
    "    \n",
    "    #return a feature vector with 40 dimensions\n",
    "    return combined  "
   ]
  },
  {
   "cell_type": "markdown",
   "metadata": {},
   "source": [
    "# Training Speaker Models"
   ]
  },
  {
   "cell_type": "code",
   "execution_count": 3,
   "metadata": {
    "scrolled": true
   },
   "outputs": [
    {
     "name": "stdout",
     "output_type": "stream",
     "text": [
      "+ modeling completed for speaker: 01.gmm  with data point =  (1897, 40)\n",
      "+ modeling completed for speaker: 02.gmm  with data point =  (1933, 40)\n",
      "+ modeling completed for speaker: 03.gmm  with data point =  (1740, 40)\n",
      "+ modeling completed for speaker: 04.gmm  with data point =  (1718, 40)\n",
      "+ modeling completed for speaker: 05.gmm  with data point =  (1708, 40)\n",
      "+ modeling completed for speaker: 06.gmm  with data point =  (1858, 40)\n",
      "+ modeling completed for speaker: 07.gmm  with data point =  (1616, 40)\n",
      "+ modeling completed for speaker: 08.gmm  with data point =  (1676, 40)\n",
      "+ modeling completed for speaker: 09.gmm  with data point =  (2046, 40)\n",
      "+ modeling completed for speaker: 10.gmm  with data point =  (2007, 40)\n",
      "+ modeling completed for speaker: 11.gmm  with data point =  (2071, 40)\n",
      "+ modeling completed for speaker: 12.gmm  with data point =  (1868, 40)\n",
      "+ modeling completed for speaker: 13.gmm  with data point =  (2152, 40)\n",
      "+ modeling completed for speaker: 14.gmm  with data point =  (1706, 40)\n",
      "+ modeling completed for speaker: 15.gmm  with data point =  (1642, 40)\n",
      "+ modeling completed for speaker: 16.gmm  with data point =  (1744, 40)\n",
      "+ modeling completed for speaker: 17.gmm  with data point =  (1958, 40)\n",
      "+ modeling completed for speaker: 18.gmm  with data point =  (2048, 40)\n",
      "+ modeling completed for speaker: 19.gmm  with data point =  (1848, 40)\n",
      "+ modeling completed for speaker: 20.gmm  with data point =  (2032, 40)\n",
      "+ modeling completed for speaker: 21.gmm  with data point =  (1875, 40)\n",
      "+ modeling completed for speaker: 22.gmm  with data point =  (2300, 40)\n",
      "+ modeling completed for speaker: 23.gmm  with data point =  (1839, 40)\n",
      "+ modeling completed for speaker: 24.gmm  with data point =  (1865, 40)\n",
      "+ modeling completed for speaker: 25.gmm  with data point =  (2119, 40)\n",
      "+ modeling completed for speaker: 26.gmm  with data point =  (1967, 40)\n",
      "+ modeling completed for speaker: 27.gmm  with data point =  (1715, 40)\n",
      "+ modeling completed for speaker: 28.gmm  with data point =  (1853, 40)\n",
      "+ modeling completed for speaker: 29.gmm  with data point =  (2138, 40)\n",
      "+ modeling completed for speaker: 30.gmm  with data point =  (1714, 40)\n",
      "+ modeling completed for speaker: 31.gmm  with data point =  (1827, 40)\n",
      "+ modeling completed for speaker: 32.gmm  with data point =  (2251, 40)\n",
      "+ modeling completed for speaker: 33.gmm  with data point =  (1909, 40)\n",
      "+ modeling completed for speaker: 34.gmm  with data point =  (1896, 40)\n",
      "+ modeling completed for speaker: 35.gmm  with data point =  (2134, 40)\n",
      "+ modeling completed for speaker: 36.gmm  with data point =  (2185, 40)\n",
      "+ modeling completed for speaker: 37.gmm  with data point =  (1660, 40)\n",
      "+ modeling completed for speaker: 38.gmm  with data point =  (2164, 40)\n",
      "+ modeling completed for speaker: 39.gmm  with data point =  (1931, 40)\n",
      "+ modeling completed for speaker: 40.gmm  with data point =  (1934, 40)\n",
      "+ modeling completed for speaker: 41.gmm  with data point =  (1793, 40)\n",
      "+ modeling completed for speaker: 42.gmm  with data point =  (1680, 40)\n",
      "+ modeling completed for speaker: 43.gmm  with data point =  (2117, 40)\n",
      "+ modeling completed for speaker: 44.gmm  with data point =  (2154, 40)\n",
      "+ modeling completed for speaker: 45.gmm  with data point =  (2321, 40)\n",
      "+ modeling completed for speaker: 46.gmm  with data point =  (1795, 40)\n",
      "+ modeling completed for speaker: 47.gmm  with data point =  (2003, 40)\n",
      "+ modeling completed for speaker: 48.gmm  with data point =  (2172, 40)\n",
      "+ modeling completed for speaker: 49.gmm  with data point =  (1817, 40)\n",
      "+ modeling completed for speaker: 50.gmm  with data point =  (1583, 40)\n",
      "+ modeling completed for speaker: 51.gmm  with data point =  (1931, 40)\n",
      "+ modeling completed for speaker: 52.gmm  with data point =  (1819, 40)\n",
      "+ modeling completed for speaker: 53.gmm  with data point =  (1990, 40)\n",
      "+ modeling completed for speaker: 54.gmm  with data point =  (2041, 40)\n",
      "+ modeling completed for speaker: 55.gmm  with data point =  (2026, 40)\n",
      "+ modeling completed for speaker: 56.gmm  with data point =  (2285, 40)\n",
      "+ modeling completed for speaker: 57.gmm  with data point =  (1844, 40)\n",
      "+ modeling completed for speaker: 58.gmm  with data point =  (2214, 40)\n",
      "+ modeling completed for speaker: 59.gmm  with data point =  (2143, 40)\n",
      "+ modeling completed for speaker: 60.gmm  with data point =  (2112, 40)\n",
      "The training took 117.00 seconds to run.\n"
     ]
    }
   ],
   "source": [
    "start_time = time.time()\n",
    "\n",
    "warnings.filterwarnings(\"ignore\")\n",
    "\n",
    "#path to training data\n",
    "source   = \"NEW_AudioMnist_SUBSET/\"  #main folder dataset\n",
    " \n",
    "#path where training speakers will be saved\n",
    "dest = \"speaker_models_dataset3_30\\\\\"\n",
    "\n",
    "#File with the name of files to be used for trainning\n",
    "train_file = \"AudioMNIST_train30.csv\"\n",
    "file_paths = open(train_file,'r') # reading audio files\n",
    " \n",
    "count = 1\n",
    "\n",
    "# Extracting features for each speaker\n",
    "features = np.asarray(())\n",
    "for path in file_paths:\n",
    "    path = path.strip()\n",
    "    #print(path)\n",
    " \n",
    "    # read the audio\n",
    "    audio, sr = soundfile.read(source + path)\n",
    " \n",
    "    # extract 40 dimensional MFCC & delta MFCC features\n",
    "    vector   = extract_features(audio,sr)\n",
    " \n",
    "    if features.size == 0:\n",
    "        features = vector\n",
    "    else:\n",
    "        features = np.vstack((features, vector))\n",
    "    # when features of 30 files of speaker are concatenated, then do model training\n",
    "    if count == 30:\n",
    "        \n",
    "        gmm = mixture.GaussianMixture(n_components = 16, max_iter = 200, covariance_type='diag',n_init = 3)\n",
    "        gmm.fit(features)\n",
    " \n",
    "        # dumping the trained gaussian model\n",
    "        picklefile = path.split(\".\")[0].split(\"_\")[1]+\".gmm\"\n",
    "        #print(gmm)\n",
    "        cPickle.dump(gmm,open(dest + picklefile,'wb'))\n",
    "        print ('+ modeling completed for speaker:',picklefile,\" with data point = \",features.shape)\n",
    "        features = np.asarray(())\n",
    "        count = 0\n",
    "    count = count + 1\n",
    "    \n",
    "end_time = time.time()\n",
    "elapsed_time = end_time - start_time\n",
    "\n",
    "print(f\"The training took {elapsed_time:.2f} seconds to run.\")"
   ]
  },
  {
   "cell_type": "markdown",
   "metadata": {},
   "source": [
    "# Evaluating Performance on test set"
   ]
  },
  {
   "cell_type": "code",
   "execution_count": 4,
   "metadata": {},
   "outputs": [
    {
     "name": "stdout",
     "output_type": "stream",
     "text": [
      "The testing took 201.72 seconds to run.\n"
     ]
    }
   ],
   "source": [
    "# Path to the directory containing the test audio files\n",
    "test_dir = \"NEW_AudioMnist_SUBSET/\"\n",
    "\n",
    "# Path to the directory containing the trained GMM models\n",
    "model_dir = \"speaker_models_dataset3_30/\"\n",
    "\n",
    "# File containing the list of test audio files\n",
    "test_file = \"AudioMNIST_test20.csv\"\n",
    "\n",
    "# Load the trained GMM models\n",
    "gmm_models = []\n",
    "speaker_ids = []\n",
    "for fname in os.listdir(model_dir):\n",
    "    if fname.endswith('.gmm'):\n",
    "        with open(os.path.join(model_dir, fname), 'rb') as f:\n",
    "            gmm_models.append(pickle.load(f))\n",
    "            speaker_ids.append(fname.split(\"\\\\\")[-1].split(\".gmm\")[0])\n",
    "\n",
    "# Initialize lists to store the predicted speaker IDs, the second predicted speaker IDs, \n",
    "# the correct speaker IDs, and the log-likelihood scores\n",
    "predicted_speakers = []\n",
    "second_predicted_speakers = []\n",
    "correct_speakers = []\n",
    "winner_scores = []\n",
    "second_scores = []\n",
    "\n",
    "# Read the list of test audio files from the CSV file\n",
    "with open(test_file, 'r') as f:\n",
    "    test_files = f.readlines()\n",
    "\n",
    "# Loop through each test audio file\n",
    "for path in test_files:\n",
    "    #path = path.strip()\n",
    "    #print(path[:-1])\n",
    "    speaker_id = path.split(\".\")[0].split(\"_\")[1]\n",
    "    #correct_speaker_idx = speaker_ids.index(speaker_id)\n",
    "\n",
    "    # Read the audio file and extract its features\n",
    "    #print(test_dir + path)\n",
    "    #print(speaker_id)\n",
    "    audio, sr = soundfile.read(test_dir + path[:-1])\n",
    "    features = extract_features(audio, sr)\n",
    "\n",
    "    # Calculate the log-likelihood of the audio file given each GMM model\n",
    "    log_likelihoods = np.zeros(len(gmm_models))\n",
    "    for i, gmm_model in enumerate(gmm_models):\n",
    "        log_likelihoods[i] = np.sum(gmm_model.score(features))\n",
    "\n",
    "    # Predict the speaker ID with the highest log-likelihood score\n",
    "    predicted_speaker_idx = np.argmax(log_likelihoods)\n",
    "    predicted_speaker = speaker_ids[predicted_speaker_idx]\n",
    "    predicted_speakers.append(predicted_speaker)\n",
    "\n",
    "    # Predict the second highest speaker ID and store its log-likelihood score\n",
    "    second_predicted_speaker_idx = np.argsort(log_likelihoods)[-2]\n",
    "    second_predicted_speaker = speaker_ids[second_predicted_speaker_idx]\n",
    "    second_predicted_speakers.append(second_predicted_speaker)\n",
    "\n",
    "    # Store the correct speaker ID and the log-likelihood score for the predicted speaker\n",
    "    correct_speakers.append(speaker_id)\n",
    "    winner_scores.append(log_likelihoods[predicted_speaker_idx])\n",
    "    second_scores.append(log_likelihoods[second_predicted_speaker_idx])\n",
    "    \n",
    "    #print(f\"correct :{speaker_id}, winner: { predicted_speaker}, second: {second_predicted_speaker}\")\n",
    "\n",
    "# Calculate the elapsed time and print it\n",
    "elapsed_time = time.time() - start_time\n",
    "print(f\"The testing took {elapsed_time:.2f} seconds to run.\")"
   ]
  },
  {
   "cell_type": "code",
   "execution_count": 5,
   "metadata": {},
   "outputs": [],
   "source": [
    "# Create a DataFrame to hold the results\n",
    "df = pd.DataFrame({'Speaker Real': correct_speakers,\n",
    "                   'Speaker Predicted': predicted_speakers,\n",
    "                   'Winner Score': winner_scores,\n",
    "                   'Second Place': second_predicted_speakers,\n",
    "                   'Second Place Score': second_scores})\n",
    "\n",
    "# Save the DataFrame to an Excel file\n",
    "df.to_excel('results_GMM_3.xlsx', index=False)"
   ]
  },
  {
   "cell_type": "code",
   "execution_count": 6,
   "metadata": {},
   "outputs": [
    {
     "data": {
      "image/png": "[encoded data removed]",
      "text/plain": [
       "<Figure size 1080x1080 with 2 Axes>"
      ]
     },
     "metadata": {
      "needs_background": "light"
     },
     "output_type": "display_data"
    }
   ],
   "source": [
    "# Load the results DataFrame as df\n",
    "results = df\n",
    "\n",
    "plt.rcParams['font.size'] = 20\n",
    "\n",
    "# Calculate accuracy for matching Test_y and Top_2_1\n",
    "df[\"acc_1\"] = (df['Speaker Real'] == df['Speaker Predicted'])\n",
    "\n",
    "# Calculate accuracy for matching Test_y and (Top_2_1 & Top_2_2)\n",
    "results[\"acc_2\"]  = ((df['Speaker Real'] == df['Speaker Predicted']) | (df['Speaker Real'] == df['Second Place']))\n",
    "\n",
    "# Get unique values of Test_y\n",
    "unique_values = df['Speaker Real'].unique()\n",
    "\n",
    "mean_accuracy = results.groupby(df['Speaker Real'])[['acc_1', 'acc_2']].mean().reset_index()\n",
    "mean_accuracy.set_index(mean_accuracy.columns[0], inplace=True)\n",
    "\n",
    "# Get the speaker names\n",
    "speakers = mean_accuracy.index\n",
    "\n",
    "# Create bar plots\n",
    "fig, axs = plt.subplots(2, 1, figsize=(15, 15))\n",
    "plt.suptitle(f\"AudioMNIST GMM 30-10-20\")\n",
    "\n",
    "axs[0].bar(range(len(speakers)), mean_accuracy['acc_1'])\n",
    "axs[0].axhline(mean_accuracy['acc_1'].mean(), color='r', linestyle='--')\n",
    "axs[0].set_xlabel('Speaker')\n",
    "axs[0].set_ylabel('Accuracy')\n",
    "axs[0].set_title('Accuracy')\n",
    "axs[0].set_xticks(range(len(speakers)))\n",
    "axs[0].set_ylim([0,1])\n",
    "axs[0].set_xticklabels(speakers, rotation=90, fontsize=12)\n",
    "\n",
    "axs[1].bar(range(len(speakers)), mean_accuracy['acc_2'])\n",
    "axs[1].axhline(mean_accuracy['acc_2'].mean(), color='r', linestyle='--')\n",
    "axs[1].set_xlabel('Speaker')\n",
    "axs[1].set_ylabel('Top-2 Accuracy')\n",
    "axs[1].set_title('TOP-2 Accuracy')\n",
    "axs[1].set_xticks(range(len(speakers)))\n",
    "axs[1].set_ylim([0,1.1])\n",
    "axs[1].set_xticklabels(speakers, rotation=90, fontsize=12)\n",
    "\n",
    "#fig.suptitle(f\"AudioMNIST_(TRAIN {100*train_size/data_size}%)\", fontsize=26)\n",
    "plt.tight_layout()\n",
    "\n",
    "\n",
    "# Display the plot\n",
    "\n",
    "plt.savefig(\"AudioMNIST_GMM-30-10-20.png\")"
   ]
  },
  {
   "cell_type": "code",
   "execution_count": 7,
   "metadata": {},
   "outputs": [
    {
     "data": {
      "text/plain": [
       "0.9283333333333335"
      ]
     },
     "execution_count": 7,
     "metadata": {},
     "output_type": "execute_result"
    }
   ],
   "source": [
    "mean_accuracy['acc_1'].mean()"
   ]
  },
  {
   "cell_type": "code",
   "execution_count": 8,
   "metadata": {},
   "outputs": [
    {
     "data": {
      "text/plain": [
       "0.9658333333333334"
      ]
     },
     "execution_count": 8,
     "metadata": {},
     "output_type": "execute_result"
    }
   ],
   "source": [
    "mean_accuracy['acc_2'].mean()"
   ]
  },
  {
   "cell_type": "code",
   "execution_count": 9,
   "metadata": {},
   "outputs": [
    {
     "data": {
      "image/png": "[encoded data removed]",
      "text/plain": [
       "<Figure size 432x288 with 1 Axes>"
      ]
     },
     "metadata": {
      "needs_background": "light"
     },
     "output_type": "display_data"
    }
   ],
   "source": [
    "plt.rcParams['font.size'] = 12\n",
    "# Create a figure and axis\n",
    "fig, ax = plt.subplots()\n",
    "\n",
    "# Create a list of the two data series for box plots\n",
    "data = [mean_accuracy['acc_1'], mean_accuracy['acc_2']]\n",
    "\n",
    "# Create the box plots\n",
    "box_plot = ax.boxplot(data, labels=['Accuracy', 'Top-2 Accuracy'])\n",
    "\n",
    "# Add labels to the box plots\n",
    "ax.set_ylabel('Accuracy')\n",
    "ax.set_title(\"AudioMNIST_(GMM 30-10-20)\")\n",
    "ax.set_ylim([0, 1.1])\n",
    "\n",
    "# Display the plot\n",
    "\n",
    "plt.savefig(\"AudioMNIST_(GMM-30-10-20)_BP.png\")"
   ]
  },
  {
   "cell_type": "code",
   "execution_count": 10,
   "metadata": {
    "scrolled": true,
    "tags": []
   },
   "outputs": [
    {
     "name": "stdout",
     "output_type": "stream",
     "text": [
      "\tAccuracy - 92.83%\n"
     ]
    }
   ],
   "source": [
    "import sklearn as sk\n",
    "accuracy = sk.metrics.accuracy_score(correct_speakers, predicted_speakers)\n",
    "print(f\"\\tAccuracy - {round(accuracy,4)*100}%\")\n",
    "\n",
    "#This is the top 1 accuraycy"
   ]
  },
  {
   "cell_type": "code",
   "execution_count": 11,
   "metadata": {},
   "outputs": [
    {
     "name": "stdout",
     "output_type": "stream",
     "text": [
      "\tAccuracy - 0.93%\n"
     ]
    }
   ],
   "source": [
    "accuracy_Top2 = sk.metrics.accuracy_score(correct_speakers, second_predicted_speakers)\n",
    "print(f\"\\tAccuracy - {round(accuracy,2)}%\")\n",
    "\n",
    "\n",
    "#this value is not validated. It is the accuracy to the second place. \n",
    "#we need to find a way to combine winner with second place\n",
    "#or use the sk metrics for topk "
   ]
  },
  {
   "cell_type": "code",
   "execution_count": null,
   "metadata": {},
   "outputs": [],
   "source": []
  }
 ],
 "metadata": {
  "kernelspec": {
   "display_name": "Python 3",
   "language": "python",
   "name": "python3"
  },
  "language_info": {
   "codemirror_mode": {
    "name": "ipython",
    "version": 3
   },
   "file_extension": ".py",
   "mimetype": "text/x-python",
   "name": "python",
   "nbconvert_exporter": "python",
   "pygments_lexer": "ipython3",
   "version": "3.8.8"
  },
  "toc": {
   "base_numbering": 1,
   "nav_menu": {},
   "number_sections": true,
   "sideBar": true,
   "skip_h1_title": false,
   "title_cell": "Table of Contents",
   "title_sidebar": "Contents",
   "toc_cell": false,
   "toc_position": {},
   "toc_section_display": true,
   "toc_window_display": false
  }
 },
 "nbformat": 4,
 "nbformat_minor": 4
}
